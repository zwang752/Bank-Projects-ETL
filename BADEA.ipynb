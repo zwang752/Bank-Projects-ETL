{
 "cells": [
  {
   "cell_type": "code",
   "execution_count": 5,
   "metadata": {
    "scrolled": true
   },
   "outputs": [],
   "source": [
    "import urllib.request \n",
    "from urllib.request import urlopen as uReq\n",
    "from bs4 import BeautifulSoup as soup\n",
    "from urllib.request import Request, urlopen\n",
    "import os\n",
    "\n",
    "try:\n",
    "    os.mkdir('BADEA pdf')\n",
    "except:\n",
    "    pass\n",
    "#Remember to change the download path\n",
    "path = '/Users/zhewang/Global AI/Web scraping bank grabber/BADEA pdf/'\n",
    "\n",
    "def save_pdf(url,name):\n",
    "    opener=urllib.request.build_opener()\n",
    "    opener.addheaders=[('User-Agent','Mozilla/5.0 (Windows NT 6.1; WOW64) AppleWebKit/537.36 (KHTML, like Gecko) Chrome/36.0.1941.0 Safari/537.36')]\n",
    "    #This is one way to store img\n",
    "    urllib.request.install_opener(opener)\n",
    "    urllib.request.urlretrieve(url,path + name)\n",
    "\n",
    "#Define and Read source URL\n",
    "my_url = 'https://www.badea.org/Default.aspx?id=62&lg=en'\n",
    "uClient = uReq(my_url)\n",
    "page_html = uClient.read()\n",
    "uClient.close()\n",
    "\n",
    "#parse HTML\n",
    "page_soup = soup(page_html, \"html.parser\")\n",
    "links = [a['href'] for a in page_soup.find_all('a', href=True)]\n",
    "for link in links:\n",
    "    if \"Portal/Document_Repository\" in link:\n",
    "        d = link.replace(\"Portal/Document_Repository\",\"https://www.badea.org/Portal/Document_Repository\")\n",
    "        names = d.split('_')[-1]\n",
    "        save_pdf(d, names)"
   ]
  },
  {
   "cell_type": "code",
   "execution_count": null,
   "metadata": {},
   "outputs": [],
   "source": []
  }
 ],
 "metadata": {
  "kernelspec": {
   "display_name": "Python 3",
   "language": "python",
   "name": "python3"
  },
  "language_info": {
   "codemirror_mode": {
    "name": "ipython",
    "version": 3
   },
   "file_extension": ".py",
   "mimetype": "text/x-python",
   "name": "python",
   "nbconvert_exporter": "python",
   "pygments_lexer": "ipython3",
   "version": "3.7.4"
  }
 },
 "nbformat": 4,
 "nbformat_minor": 2
}
