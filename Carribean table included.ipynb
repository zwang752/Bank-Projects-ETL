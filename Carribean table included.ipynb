{
 "cells": [
  {
   "cell_type": "code",
   "execution_count": 1,
   "metadata": {},
   "outputs": [],
   "source": [
    "import re\n",
    "from urllib.request import urlopen as uReq\n",
    "from bs4 import BeautifulSoup as soup\n",
    "import pandas as pd"
   ]
  },
  {
   "cell_type": "code",
   "execution_count": 2,
   "metadata": {},
   "outputs": [],
   "source": [
    "\n",
    "my_url = 'https://www.caribank.org/our-work/projects-map/list-projects'\n",
    "#set local path to download\n",
    "uClient = uReq(my_url)\n",
    "page_html = uClient.read()\n",
    "uClient.close()\n",
    "\n",
    "#parse HTML\n",
    "page_soup = soup(page_html, \"html.parser\")\n"
   ]
  },
  {
   "cell_type": "code",
   "execution_count": 3,
   "metadata": {},
   "outputs": [],
   "source": [
    "#find all urls by beautifulsoup\n",
    "links = [a['href'] for a in page_soup.find_all('a', href=True)]"
   ]
  },
  {
   "cell_type": "code",
   "execution_count": 4,
   "metadata": {},
   "outputs": [],
   "source": [
    "#find project urls\n",
    "lst=[]\n",
    "for i in links:\n",
    "    if '/our-work/projects-map/' in i:\n",
    "        lst.append(i)"
   ]
  },
  {
   "cell_type": "code",
   "execution_count": 5,
   "metadata": {},
   "outputs": [
    {
     "data": {
      "text/plain": [
       "['/our-work/projects-map/support-establishment-specialised-micro-and-small-business-financing-assessment-unit-within',\n",
       " '/our-work/projects-map/essex-valley-irrigation-project',\n",
       " '/our-work/projects-map/strengthening-food-safety-management-systems',\n",
       " '/our-work/projects-map/energy-efficiency-measures-and-solar-photovoltaic-plant',\n",
       " '/our-work/projects-map/road-and-bridge-rehabilitation-loubiere-bagatelle-road-and-road-network-and-road-safety-assessment',\n",
       " '/our-work/projects-map/road-infrastructure-rehabilitation',\n",
       " '/our-work/projects-map/education-quality-improvement-project',\n",
       " '/our-work/projects-map/water-supply-expansion-and-sewerage-improvement-project',\n",
       " '/our-work/projects-map/skills-development-and-employability-project',\n",
       " '/our-work/projects-map/technical-assistance-geomatics-capacity-enhancement-disaster-risk-management',\n",
       " '/our-work/projects-map/street-and-flood-light-retrofitting-project',\n",
       " '/our-work/projects-map/power-project-electricity-system-upgrade-and-expansion',\n",
       " '/our-work/projects-map/second-road-infrastructure-rehabilitation-project',\n",
       " '/our-work/projects-map/street-light-retrofitting-project',\n",
       " '/our-work/projects-map/climate-smart-agriculture-and-rural-enterprise-programme',\n",
       " '/our-work/projects-map/rehabilitation-and-reconstruction-loan-hurricane-irma',\n",
       " '/our-work/projects-map/costal-and-river-infrastructure-rehabilitation-preparation-feasibility-study-and-detailed-designs',\n",
       " '/our-work/projects-map/rehabilitation-and-reconstruction-loan-hurricane-maria',\n",
       " '/our-work/projects-map/hurricane-recovery-support-loan',\n",
       " '/our-work/projects-map/port-modernisation-project-kingstown-st-vincent-and-grenadines',\n",
       " '/our-work/projects-map/millennium-highway-and-west-coast-road-upgrading-project',\n",
       " '/our-work/projects-map/montserrat-port-development-project',\n",
       " '/our-work/projects-map/coastal-highway-upgrading-feasibility-study-and-preparation-detailed-designs',\n",
       " '/our-work/projects-map/education-sector-support-project',\n",
       " '/our-work/projects-map/seventh-power-project',\n",
       " '/our-work/projects-map/emergency-support-loan-liat-1974-limited',\n",
       " '/our-work/projects-map/emergency-support-loan-liat-1974-limited-1',\n",
       " '/our-work/projects-map/rehabilitation-and-reconstruction-hurricane-irma',\n",
       " '/our-work/projects-map/eighth-consolidated-line-credit',\n",
       " '/our-work/projects-map/belize-social-investment-fund-iii',\n",
       " '/our-work/projects-map/third-growth-and-resilience-building-policy-based-loan',\n",
       " '/our-work/projects-map/energy-sector-policy-based-loan',\n",
       " '/our-work/projects-map/power-project-suriname-electricity-system-upgrade-and-expansion',\n",
       " '/our-work/projects-map/support-haiti-meet-commitment-caribbean-catastrophe-risk-insurance-facility-2013-2014-hurricane',\n",
       " '/our-work/projects-map/education-all-project-phase-ii',\n",
       " '/our-work/projects-map/support-haiti-meet-commitment-caribbean-catastrophe-risk-insurance-facility-2014-2015-hurricane',\n",
       " '/our-work/projects-map/technical-assistance-sanitation-and-governance-training-programme',\n",
       " '/our-work/projects-map/support-haiti-meet-commitment-caribbean-catastrophe-risk-insurance-facility-2015-2016-hurricane',\n",
       " '/our-work/projects-map/technical-and-vocational-education-and-training-project-ii-republic-haiti',\n",
       " '/our-work/projects-map/community-based-agriculture-and-rural-development',\n",
       " '/our-work/projects-map/disaster-management-emergency-relief-grant-hurricane-matthew',\n",
       " '/our-work/projects-map/support-haiti-meet-commitment-caribbean-catastrophe-risk-insurance-facility-2017-2018-hurricane',\n",
       " '/our-work/projects-map/enhancement-technical-and-vocational-education-and-training-lower-secondary-school-level-suriname',\n",
       " '/our-work/projects-map/economic-stability-and-resilience-building-policy-based-loan-british-virgin-islands',\n",
       " '/our-work/projects-map/youth-resilience-and-inclusive-social-empowerment-rise-project',\n",
       " '/our-work/projects-map/immediate-response-hurricane-earl',\n",
       " '/our-work/projects-map/technical-and-vocational-education-and-training-development-revision-scope-additional-loan',\n",
       " '/our-work/projects-map/anguilla-bank-resolution-bridge-bank-capitalisation',\n",
       " '/our-work/projects-map/disaster-reduction-climate-change-adaptation',\n",
       " '/our-work/projects-map/third-water-supply-project-water-area-1-network-upgrade',\n",
       " '/our-work/projects-map/preparation-comprehensive-sport-development-initiative-new-faculty-sport-university-west-indies',\n",
       " '/our-work/projects-map/establishment-caribbean-regional-technical-assistance-centre-continuation-support-contribution-phase',\n",
       " '/our-work/projects-map/african-caribbean-pacific-european-union-caribbean-development-bank-natural-disaster-risk-management',\n",
       " '/our-work/projects-map/building-individual-and-social-resilience-cope-impacts-natural-hazard-events-enhancing-capacity',\n",
       " '/our-work/projects-map/rehabilitation-and-reconstruction-loan-hurricane-maria-dominica-electricity-services-limited',\n",
       " '/our-work/projects-map/support-haiti-meet-commitment-caribbean-catastrophe-risk-insurance-facility-2016-2017-hurricane',\n",
       " '/our-work/projects-map/building-capacity-disaster-risk-management-and-climate-resilience-project-ile-vache',\n",
       " '/our-work/projects-map/quality-enhancement-public-education']"
      ]
     },
     "execution_count": 5,
     "metadata": {},
     "output_type": "execute_result"
    }
   ],
   "source": [
    "lst[2:]"
   ]
  },
  {
   "cell_type": "code",
   "execution_count": 5,
   "metadata": {},
   "outputs": [],
   "source": [
    "#Revise all urls so we can access directly\n",
    "final_link=list(map(lambda x:'https://www.caribank.org'+x,lst[2:]))"
   ]
  },
  {
   "cell_type": "code",
   "execution_count": 6,
   "metadata": {
    "scrolled": true
   },
   "outputs": [
    {
     "data": {
      "text/plain": [
       "['https://www.caribank.org/our-work/projects-map/support-establishment-specialised-micro-and-small-business-financing-assessment-unit-within',\n",
       " 'https://www.caribank.org/our-work/projects-map/essex-valley-irrigation-project',\n",
       " 'https://www.caribank.org/our-work/projects-map/strengthening-food-safety-management-systems',\n",
       " 'https://www.caribank.org/our-work/projects-map/energy-efficiency-measures-and-solar-photovoltaic-plant',\n",
       " 'https://www.caribank.org/our-work/projects-map/road-and-bridge-rehabilitation-loubiere-bagatelle-road-and-road-network-and-road-safety-assessment']"
      ]
     },
     "execution_count": 6,
     "metadata": {},
     "output_type": "execute_result"
    }
   ],
   "source": [
    "final_link[:5]"
   ]
  },
  {
   "cell_type": "code",
   "execution_count": 7,
   "metadata": {},
   "outputs": [],
   "source": [
    "#Test: Try to put one project data into a table\n",
    "link='https://www.caribank.org/our-work/projects-map/support-establishment-specialised-micro-and-small-business-financing-assessment-unit-within'\n",
    "bluClient = uReq(link)\n",
    "blupage_html = bluClient.read()\n",
    "bluClient.close()\n",
    "blupage_soup = soup(blupage_html, 'html')"
   ]
  },
  {
   "cell_type": "code",
   "execution_count": 8,
   "metadata": {},
   "outputs": [],
   "source": [
    "#find overview \n",
    "a=blupage_soup.find_all('div',{'class':['field--wrap field--node field--node--full field--node--body']})\n",
    "b=str(a).replace('<p>','</p>')\n",
    "description=b.split('</p>')[1]\n"
   ]
  },
  {
   "cell_type": "code",
   "execution_count": 9,
   "metadata": {},
   "outputs": [],
   "source": [
    "#find date\n",
    "#blupage_soup.find_all('div',{'class':['field--label']})\n",
    "c=blupage_soup.find_all('div',{'class':['field--wrap field--node--field-date-of-approval field-display--above']})\n",
    "d=str(c).replace('<div>','</div>')\n",
    "date=d.split('</div>')[2]\n"
   ]
  },
  {
   "cell_type": "code",
   "execution_count": 10,
   "metadata": {},
   "outputs": [],
   "source": [
    "# find country\n",
    "#need try_catch \n",
    "e=blupage_soup.find_all('div',{'class':['node--contry-tag']})\n",
    "f=str(e).split('hreflang=\"en\">')[1]\n",
    "country=f.split('</a>')[0]\n"
   ]
  },
  {
   "cell_type": "code",
   "execution_count": 11,
   "metadata": {},
   "outputs": [],
   "source": [
    "#find budget\n",
    "g=blupage_soup.find_all('div',{'class':['field--wrap field--node--field-cdb-approved-budget field-display--above']})\n",
    "h=str(g).replace('<div>','</div>')\n",
    "approved_total=h.split('</div>')[2]"
   ]
  },
  {
   "cell_type": "code",
   "execution_count": 12,
   "metadata": {
    "scrolled": true
   },
   "outputs": [],
   "source": [
    "# find status \n",
    "gg=blupage_soup.find_all('div',{'class':['field--wrapp']})\n",
    "status=str(gg).split('</span>')[1].split('</div>')[0]\n"
   ]
  },
  {
   "cell_type": "code",
   "execution_count": 13,
   "metadata": {},
   "outputs": [
    {
     "data": {
      "text/html": [
       "<div>\n",
       "<style scoped>\n",
       "    .dataframe tbody tr th:only-of-type {\n",
       "        vertical-align: middle;\n",
       "    }\n",
       "\n",
       "    .dataframe tbody tr th {\n",
       "        vertical-align: top;\n",
       "    }\n",
       "\n",
       "    .dataframe thead th {\n",
       "        text-align: right;\n",
       "    }\n",
       "</style>\n",
       "<table border=\"1\" class=\"dataframe\">\n",
       "  <thead>\n",
       "    <tr style=\"text-align: right;\">\n",
       "      <th></th>\n",
       "      <th>description</th>\n",
       "      <th>date</th>\n",
       "      <th>country</th>\n",
       "      <th>status</th>\n",
       "    </tr>\n",
       "  </thead>\n",
       "  <tbody>\n",
       "    <tr>\n",
       "      <th>0</th>\n",
       "      <td>This Project is expected to contribute to incr...</td>\n",
       "      <td>May, 2016</td>\n",
       "      <td>Haiti</td>\n",
       "      <td>Active</td>\n",
       "    </tr>\n",
       "  </tbody>\n",
       "</table>\n",
       "</div>"
      ],
      "text/plain": [
       "                                         description       date country  \\\n",
       "0  This Project is expected to contribute to incr...  May, 2016   Haiti   \n",
       "\n",
       "   status  \n",
       "0  Active  "
      ]
     },
     "execution_count": 13,
     "metadata": {},
     "output_type": "execute_result"
    }
   ],
   "source": [
    "table=pd.DataFrame([[description,date,country,status]],columns=['description','date','country','status'])\n",
    "table"
   ]
  },
  {
   "cell_type": "code",
   "execution_count": 14,
   "metadata": {
    "scrolled": true
   },
   "outputs": [
    {
     "name": "stdout",
     "output_type": "stream",
     "text": [
      "support-establishment-specialised-micro-and-small-business-financing-assessment-unit-withinfinished iteration \n",
      "essex-valley-irrigation-projectfinished iteration \n",
      "strengthening-food-safety-management-systemsfinished iteration \n",
      "energy-efficiency-measures-and-solar-photovoltaic-plantfinished iteration \n",
      "road-and-bridge-rehabilitation-loubiere-bagatelle-road-and-road-network-and-road-safety-assessmentfinished iteration \n",
      "road-infrastructure-rehabilitationfinished iteration \n",
      "education-quality-improvement-projectfinished iteration \n",
      "water-supply-expansion-and-sewerage-improvement-projectfinished iteration \n",
      "skills-development-and-employability-projectfinished iteration \n",
      "technical-assistance-geomatics-capacity-enhancement-disaster-risk-managementfinished iteration \n",
      "street-and-flood-light-retrofitting-projectfinished iteration \n",
      "power-project-electricity-system-upgrade-and-expansionfinished iteration \n",
      "second-road-infrastructure-rehabilitation-projectfinished iteration \n",
      "street-light-retrofitting-projectfinished iteration \n",
      "climate-smart-agriculture-and-rural-enterprise-programmefinished iteration \n",
      "rehabilitation-and-reconstruction-loan-hurricane-irmafinished iteration \n",
      "costal-and-river-infrastructure-rehabilitation-preparation-feasibility-study-and-detailed-designsfinished iteration \n",
      "rehabilitation-and-reconstruction-loan-hurricane-mariafinished iteration \n",
      "hurricane-recovery-support-loanfinished iteration \n",
      "port-modernisation-project-kingstown-st-vincent-and-grenadinesfinished iteration \n",
      "millennium-highway-and-west-coast-road-upgrading-projectfinished iteration \n",
      "montserrat-port-development-projectfinished iteration \n",
      "coastal-highway-upgrading-feasibility-study-and-preparation-detailed-designsfinished iteration \n",
      "education-sector-support-projectfinished iteration \n",
      "seventh-power-projectfinished iteration \n",
      "emergency-support-loan-liat-1974-limitedfinished iteration \n",
      "emergency-support-loan-liat-1974-limited-1finished iteration \n",
      "rehabilitation-and-reconstruction-hurricane-irmafinished iteration \n",
      "eighth-consolidated-line-creditfinished iteration \n",
      "belize-social-investment-fund-iiifinished iteration \n",
      "third-growth-and-resilience-building-policy-based-loanfinished iteration \n",
      "energy-sector-policy-based-loanfinished iteration \n",
      "power-project-suriname-electricity-system-upgrade-and-expansionfinished iteration \n",
      "support-haiti-meet-commitment-caribbean-catastrophe-risk-insurance-facility-2013-2014-hurricanefinished iteration \n",
      "education-all-project-phase-iifinished iteration \n",
      "support-haiti-meet-commitment-caribbean-catastrophe-risk-insurance-facility-2014-2015-hurricanefinished iteration \n",
      "technical-assistance-sanitation-and-governance-training-programmefinished iteration \n",
      "support-haiti-meet-commitment-caribbean-catastrophe-risk-insurance-facility-2015-2016-hurricanefinished iteration \n",
      "technical-and-vocational-education-and-training-project-ii-republic-haitifinished iteration \n",
      "community-based-agriculture-and-rural-developmentfinished iteration \n",
      "disaster-management-emergency-relief-grant-hurricane-matthewfinished iteration \n",
      "support-haiti-meet-commitment-caribbean-catastrophe-risk-insurance-facility-2017-2018-hurricanefinished iteration \n",
      "enhancement-technical-and-vocational-education-and-training-lower-secondary-school-level-surinamefinished iteration \n",
      "economic-stability-and-resilience-building-policy-based-loan-british-virgin-islandsfinished iteration \n",
      "youth-resilience-and-inclusive-social-empowerment-rise-projectfinished iteration \n",
      "immediate-response-hurricane-earlfinished iteration \n",
      "technical-and-vocational-education-and-training-development-revision-scope-additional-loanfinished iteration \n",
      "anguilla-bank-resolution-bridge-bank-capitalisationfinished iteration \n",
      "disaster-reduction-climate-change-adaptationfinished iteration \n",
      "third-water-supply-project-water-area-1-network-upgradefinished iteration \n",
      "preparation-comprehensive-sport-development-initiative-new-faculty-sport-university-west-indiesfinished iteration \n",
      "establishment-caribbean-regional-technical-assistance-centre-continuation-support-contribution-phasefinished iteration \n",
      "african-caribbean-pacific-european-union-caribbean-development-bank-natural-disaster-risk-managementfinished iteration \n",
      "building-individual-and-social-resilience-cope-impacts-natural-hazard-events-enhancing-capacityfinished iteration \n",
      "rehabilitation-and-reconstruction-loan-hurricane-maria-dominica-electricity-services-limitedfinished iteration \n",
      "support-haiti-meet-commitment-caribbean-catastrophe-risk-insurance-facility-2016-2017-hurricanefinished iteration \n",
      "building-capacity-disaster-risk-management-and-climate-resilience-project-ile-vachefinished iteration \n",
      "quality-enhancement-public-educationfinished iteration \n"
     ]
    }
   ],
   "source": [
    "#Put all projects into a table\n",
    "big_table=pd.DataFrame()\n",
    "for i in final_link:\n",
    "    bluClient = uReq(i)\n",
    "    blupage_html = bluClient.read()\n",
    "    bluClient.close()\n",
    "    blupage_soup = soup(blupage_html, 'html')\n",
    "    #get name\n",
    "    name=i.split('/')[-1]\n",
    "    #find overview \n",
    "    a=blupage_soup.find_all('div',{'class':['field--wrap field--node field--node--full field--node--body']})\n",
    "    b=str(a).replace('<p>','</p>')\n",
    "    description=b.split('</p>')[1]\n",
    "    #find date\n",
    "    c=blupage_soup.find_all('div',{'class':['field--wrap field--node--field-date-of-approval field-display--above']})\n",
    "    d=str(c).replace('<div>','</div>')\n",
    "    date=d.split('</div>')[2]\n",
    "    # find country\n",
    "    #need try_catch \n",
    "    e=blupage_soup.find_all('div',{'class':['node--contry-tag']})\n",
    "    f=str(e).split('hreflang=\"en\">')[1]\n",
    "    country=f.split('</a>')[0]\n",
    "    #find budget\n",
    "    g=blupage_soup.find_all('div',{'class':['field--wrap field--node--field-cdb-approved-budget field-display--above']})\n",
    "    h=str(g).replace('<div>','</div>')\n",
    "    approved_total=h.split('</div>')[2]\n",
    "    # find status \n",
    "    gg=blupage_soup.find_all('div',{'class':['field--wrapp']})\n",
    "    status=str(gg).split('</span>')[1].split('</div>')[0]\n",
    "    table=pd.DataFrame([[name,i,description,date,country,status,approved_total]],columns=['name','url','description','date','country','status','approved_total'])\n",
    "    big_table=pd.concat([big_table,table],axis=0)\n",
    "    print('{}finished iteration '.format(name))"
   ]
  },
  {
   "cell_type": "code",
   "execution_count": 15,
   "metadata": {},
   "outputs": [],
   "source": [
    "big_table.index=range(len(big_table))"
   ]
  },
  {
   "cell_type": "code",
   "execution_count": 16,
   "metadata": {},
   "outputs": [],
   "source": [
    "big_table.to_csv('Carribean')"
   ]
  },
  {
   "cell_type": "code",
   "execution_count": null,
   "metadata": {},
   "outputs": [],
   "source": []
  }
 ],
 "metadata": {
  "kernelspec": {
   "display_name": "Python 3",
   "language": "python",
   "name": "python3"
  },
  "language_info": {
   "codemirror_mode": {
    "name": "ipython",
    "version": 3
   },
   "file_extension": ".py",
   "mimetype": "text/x-python",
   "name": "python",
   "nbconvert_exporter": "python",
   "pygments_lexer": "ipython3",
   "version": "3.7.3"
  }
 },
 "nbformat": 4,
 "nbformat_minor": 2
}
