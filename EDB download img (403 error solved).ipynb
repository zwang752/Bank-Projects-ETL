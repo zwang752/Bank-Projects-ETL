{
 "cells": [
  {
   "cell_type": "code",
   "execution_count": 3,
   "metadata": {},
   "outputs": [],
   "source": [
    "import urllib.request \n",
    "from urllib.request import urlopen as uReq\n",
    "from bs4 import BeautifulSoup as soup\n",
    "from urllib.request import Request, urlopen\n",
    "import os\n",
    "\n",
    "\n",
    "try:\n",
    "    os.mkdir('EDB images')\n",
    "except:\n",
    "    pass\n",
    "#Remember to change the download path\n",
    "path = '/Users/zhewang/Global AI/Web scraping bank grabber/EDB images/'\n",
    "\n",
    "def save_jpg(url,name):\n",
    "    #We meet 403 errors in here, so we have to change who we are\n",
    "    opener=urllib.request.build_opener()\n",
    "    opener.addheaders=[('User-Agent','Mozilla/5.0 (Windows NT 6.1; WOW64) AppleWebKit/537.36 (KHTML, like Gecko) Chrome/36.0.1941.0 Safari/537.36')]\n",
    "    #This is one way to store img\n",
    "    urllib.request.install_opener(opener)\n",
    "    urllib.request.urlretrieve(url,path + name)\n"
   ]
  },
  {
   "cell_type": "code",
   "execution_count": null,
   "metadata": {},
   "outputs": [
    {
     "name": "stdout",
     "output_type": "stream",
     "text": [
      "number 1 image\n",
      "number 2 image\n",
      "number 3 image\n",
      "number 4 image\n",
      "number 5 image\n",
      "number 6 image\n",
      "number 1 image\n",
      "number 2 image\n",
      "number 3 image\n",
      "number 4 image\n",
      "number 5 image\n",
      "number 6 image\n",
      "number 1 image\n",
      "number 2 image\n",
      "number 3 image\n",
      "number 4 image\n",
      "number 5 image\n",
      "number 6 image\n",
      "number 1 image\n",
      "number 2 image\n",
      "number 3 image\n",
      "number 4 image\n",
      "number 5 image\n",
      "number 6 image\n",
      "number 1 image\n",
      "number 2 image\n",
      "number 3 image\n"
     ]
    }
   ],
   "source": [
    "my_url = 'https://eabr.org/en/projects/eabr/'\n",
    "hah='?PAGEN_1='\n",
    "url_list = [my_url + hah + str(a) for a in range(1,6)]\n",
    "for i in url_list: \n",
    "    req = Request(i, headers={'User-Agent': 'Mozilla/5.0 (Macintosh; Intel Mac OS X 10_10_5) AppleWebKit/537.36 (KHTML, like Gecko) Chrome/55.0.2883.95 Safari/537.36'})\n",
    "    page_html = urlopen(req).read()\n",
    "    page_soup = soup(page_html, \"html.parser\")\n",
    "    links = [img['src'] for img in page_soup.find_all('img',src = True)]\n",
    "    i=1\n",
    "    for a in links:\n",
    "            if '/upload/iblock/' in a:\n",
    "                kk = a.split('/')[-1]\n",
    "                save_jpg('https://eabr.org'+a, kk)\n",
    "                print('number '+str(i)+' image')\n",
    "                i += 1\n"
   ]
  },
  {
   "cell_type": "code",
   "execution_count": null,
   "metadata": {},
   "outputs": [],
   "source": [
    "\n"
   ]
  }
 ],
 "metadata": {
  "kernelspec": {
   "display_name": "Python 3",
   "language": "python",
   "name": "python3"
  },
  "language_info": {
   "codemirror_mode": {
    "name": "ipython",
    "version": 3
   },
   "file_extension": ".py",
   "mimetype": "text/x-python",
   "name": "python",
   "nbconvert_exporter": "python",
   "pygments_lexer": "ipython3",
   "version": "3.7.3"
  }
 },
 "nbformat": 4,
 "nbformat_minor": 2
}
