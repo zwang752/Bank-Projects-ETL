{
 "cells": [
  {
   "cell_type": "code",
   "execution_count": null,
   "metadata": {
    "scrolled": true
   },
   "outputs": [],
   "source": [
    "from urllib.request import urlopen as uReq\n",
    "from bs4 import BeautifulSoup as soup\n",
    "import urllib\n",
    "import os"
   ]
  },
  {
   "cell_type": "code",
   "execution_count": null,
   "metadata": {},
   "outputs": [],
   "source": [
    "def split_name(url):\n",
    "    return url.split('/')[-1]\n",
    "def download_file(download_url):\n",
    "    web_file = urllib.request.urlopen(download_url)\n",
    "    name=split_name(download_url)\n",
    "    local_file = open(path+'/'+name, 'wb')\n",
    "    local_file.write(web_file.read())\n",
    "    web_file.close()\n",
    "    local_file.close()\n",
    "\n",
    "try:\n",
    "    os.mkdir('NDB')\n",
    "except:\n",
    "    pass"
   ]
  },
  {
   "cell_type": "code",
   "execution_count": null,
   "metadata": {
    "scrolled": true
   },
   "outputs": [],
   "source": [
    "path='/Users/zhewang/Global AI/Web scraping bank grabber/NDB'\n",
    "my_url = 'https://www.ndb.int/projects/list-of-all-projects/'\n",
    "hah='/page/'\n",
    "url_list=[my_url+hah+str(i)+'/' for i in range(1,5)]\n",
    "lst=[]\n",
    "big_lst=[]\n",
    "for i in url_list: \n",
    "    uClient = uReq(i)\n",
    "    page_html = uClient.read()\n",
    "    uClient.close()\n",
    "    page_soup = soup(page_html, \"html.parser\")\n",
    "    links = [a['href'] for a in page_soup.find_all('a', href=True)]\n",
    "    lst=[]\n",
    "    for link in links:\n",
    "            if '/#new_tab' in link:\n",
    "                bluClient = uReq(link)\n",
    "                blupage_html = bluClient.read()\n",
    "                bluClient.close()\n",
    "                blupage_soup = soup(blupage_html, 'html')\n",
    "                try:\n",
    "                    x=blupage_soup.find_all('a', {'class': ['project-menu']})\n",
    "                    if len(list(x))==0:\n",
    "                        continue\n",
    "                    else:\n",
    "                        pass\n",
    "                except:\n",
    "                    pass\n",
    "                b=str(x).split('href=\"')[1]\n",
    "                c=b.split('\"')[0]\n",
    "                lst.append(c)\n",
    "                print(c)\n",
    "                download_file(c)\n",
    "    big_lst.append(lst)"
   ]
  },
  {
   "cell_type": "code",
   "execution_count": null,
   "metadata": {},
   "outputs": [],
   "source": []
  }
 ],
 "metadata": {
  "kernelspec": {
   "display_name": "Python 3",
   "language": "python",
   "name": "python3"
  },
  "language_info": {
   "codemirror_mode": {
    "name": "ipython",
    "version": 3
   },
   "file_extension": ".py",
   "mimetype": "text/x-python",
   "name": "python",
   "nbconvert_exporter": "python",
   "pygments_lexer": "ipython3",
   "version": "3.7.3"
  }
 },
 "nbformat": 4,
 "nbformat_minor": 2
}
