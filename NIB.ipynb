{
 "cells": [
  {
   "cell_type": "code",
   "execution_count": null,
   "metadata": {},
   "outputs": [],
   "source": [
    "from urllib.request import urlopen as uReq\n",
    "from bs4 import BeautifulSoup as soup\n",
    "import urllib\n",
    "import re\n",
    "import pandas as pd\n",
    "import itertools\n",
    "import numpy as np"
   ]
  },
  {
   "cell_type": "code",
   "execution_count": null,
   "metadata": {},
   "outputs": [],
   "source": [
    "i = 'https://www.nib.int/what_we_offer/agreed_loans'\n",
    "uClient = uReq(i)\n",
    "page_html = uClient.read()\n",
    "uClient.close()\n",
    "page_soup = soup(page_html, \"html.parser\")\n",
    "links = [a['href'] for a in page_soup.find_all('a', href=True)]"
   ]
  },
  {
   "cell_type": "code",
   "execution_count": null,
   "metadata": {},
   "outputs": [],
   "source": [
    "link = 'https://www.nib.int/what_we_offer/agreed_loans/688/maxima_lt_uab'\n",
    "bluClient = uReq(link)\n",
    "blupage_html = bluClient.read()\n",
    "bluClient.close()\n",
    "blupage_soup = soup(blupage_html, \"html.parser\")\n",
    "llst=[]\n",
    "\n",
    "llst.append(str(blupage_soup.find_all('h1')[0].string))\n",
    "\n",
    "for i in blupage_soup.find_all('td'):\n",
    "    if i.string == None:\n",
    "        llst.append(blupage_soup.find_all('span',{'class':['firstColumnSector']})[0].string) \n",
    "    else:\n",
    "        llst.append(i.string)\n",
    "        \n",
    "string = ''\n",
    "for i in blupage_soup.find_all('p',text=re.compile('loan')):\n",
    "    string += str(i.string)+\"--\"\n",
    "llst.append(string)\n",
    "        \n",
    "col_name=[]\n",
    "for i in blupage_soup.find_all('th'):\n",
    "    col_name.append(i.string)\n",
    "col_name.append(\"Project Description\")\n",
    "\n",
    "new_dict = {k: v for k, v in zip(col_name, llst)}\n",
    "df = pd.DataFrame.from_dict(new_dict,orient=\"index\").T\n",
    "\n",
    "df"
   ]
  },
  {
   "cell_type": "code",
   "execution_count": null,
   "metadata": {},
   "outputs": [],
   "source": [
    "blupage_soup.find_all('h1')[0].string"
   ]
  },
  {
   "cell_type": "code",
   "execution_count": null,
   "metadata": {
    "scrolled": true
   },
   "outputs": [],
   "source": [
    "col_name.append('Project Description')"
   ]
  },
  {
   "cell_type": "code",
   "execution_count": null,
   "metadata": {
    "scrolled": true
   },
   "outputs": [],
   "source": [
    "col_name"
   ]
  },
  {
   "cell_type": "markdown",
   "metadata": {},
   "source": [
    "# Final"
   ]
  },
  {
   "cell_type": "code",
   "execution_count": null,
   "metadata": {},
   "outputs": [],
   "source": [
    "df_null = pd.DataFrame()\n",
    "i = 'https://www.nib.int/what_we_offer/agreed_loans'\n",
    "uClient = uReq(i)\n",
    "page_html = uClient.read()\n",
    "uClient.close()\n",
    "page_soup = soup(page_html, \"html.parser\")\n",
    "links = [a['href'] for a in page_soup.find_all('a', href=True)]\n",
    "\n",
    "for link in links:\n",
    "     if '/agreed_loans/' in link:\n",
    "        bluClient = uReq(link)\n",
    "        blupage_html = bluClient.read()\n",
    "        bluClient.close()\n",
    "        blupage_soup = soup(blupage_html, \"html.parser\")\n",
    "        lst = []\n",
    "        \n",
    "        for i in blupage_soup.find_all('th'):\n",
    "             lst.append(str(i.string))\n",
    "        lst.append('Project Description')\n",
    "        \n",
    "        llst = []\n",
    "        for i in blupage_soup.find_all('td'):\n",
    "            if i.string == None:\n",
    "                llst.append(str(blupage_soup.find_all('span',{'class':['firstColumnSector']})[0].string)) \n",
    "            else:\n",
    "                llst.append(str(i.string))\n",
    "\n",
    "        string = ''\n",
    "        for i in blupage_soup.find_all('div',{'class':['loan_htmlContentBlock']})[0].find_all('p'):\n",
    "             string = string + str(i.string)+\"; \"\n",
    "        llst.append(string)\n",
    "        \n",
    "        new_dict = {k: v for k, v in zip(lst, llst)}\n",
    "        df = pd.DataFrame.from_dict(new_dict,orient=\"index\").T\n",
    "        \n",
    "        df_null = pd.concat([df_null,df],sort=False)"
   ]
  },
  {
   "cell_type": "code",
   "execution_count": null,
   "metadata": {},
   "outputs": [],
   "source": [
    "url= \"https://www.nib.int/what_we_offer/agreed_loans?loanpage=\"\n",
    "url_list=[url+str(i)+'/'+'#load' for i in range(2,60)]\n",
    "for i in url_list: \n",
    "        uClient = uReq(i)\n",
    "        page_html = uClient.read()\n",
    "        uClient.close()\n",
    "        page_soup = soup(page_html, \"html.parser\")\n",
    "        links = [a['href'] for a in page_soup.find_all('a', href=True)]\n",
    "\n",
    "        for link in links:\n",
    "            if '/agreed_loans/' in link:\n",
    "                bluClient = uReq(link)\n",
    "                blupage_html = bluClient.read()\n",
    "                bluClient.close()\n",
    "                blupage_soup = soup(blupage_html, \"html.parser\")\n",
    "                lst = []\n",
    "        \n",
    "                for i in blupage_soup.find_all('th'):\n",
    "                     lst.append(str(i.string))\n",
    "                lst.append('Project Description')\n",
    "        \n",
    "                llst = []\n",
    "                for i in blupage_soup.find_all('td'):\n",
    "                    if i.string == None:\n",
    "                        llst.append(str(blupage_soup.find_all('span',{'class':['firstColumnSector']})[0].string)) \n",
    "                    else:\n",
    "                        llst.append(str(i.string))\n",
    "\n",
    "                string = ''\n",
    "                if len(blupage_soup.find_all('div',{'class':['loan_htmlContentBlock']})) > 0:\n",
    "                    for i in blupage_soup.find_all('div',{'class':['loan_htmlContentBlock']})[0].find_all('p'):\n",
    "                        string = string + str(i.string)+\"; \"\n",
    "                llst.append(string)\n",
    "        \n",
    "                new_dict = {k: v for k, v in zip(lst, llst)}\n",
    "                df = pd.DataFrame.from_dict(new_dict,orient=\"index\").T\n",
    "        \n",
    "                df_null = pd.concat([df_null,df],sort=False)\n",
    "            print(\"done\")"
   ]
  },
  {
   "cell_type": "code",
   "execution_count": null,
   "metadata": {},
   "outputs": [],
   "source": [
    "df_null"
   ]
  },
  {
   "cell_type": "code",
   "execution_count": null,
   "metadata": {},
   "outputs": [],
   "source": [
    "final = df_null.dropna(thresh = 5)"
   ]
  },
  {
   "cell_type": "code",
   "execution_count": null,
   "metadata": {},
   "outputs": [],
   "source": [
    "final.to_csv('NIB Infra.csv')"
   ]
  },
  {
   "cell_type": "code",
   "execution_count": null,
   "metadata": {},
   "outputs": [],
   "source": []
  }
 ],
 "metadata": {
  "kernelspec": {
   "display_name": "Python 3",
   "language": "python",
   "name": "python3"
  },
  "language_info": {
   "codemirror_mode": {
    "name": "ipython",
    "version": 3
   },
   "file_extension": ".py",
   "mimetype": "text/x-python",
   "name": "python",
   "nbconvert_exporter": "python",
   "pygments_lexer": "ipython3",
   "version": "3.7.3"
  }
 },
 "nbformat": 4,
 "nbformat_minor": 2
}
